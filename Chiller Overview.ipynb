{
 "cells": [
  {
   "cell_type": "markdown",
   "metadata": {},
   "source": [
    "# Chiller Data\n",
    "\n",
    "This notebook looks through the data to determine what we have available."
   ]
  },
  {
   "cell_type": "code",
   "execution_count": 14,
   "metadata": {},
   "outputs": [],
   "source": [
    "%matplotlib inline\n",
    "import pandas as pd\n",
    "import numpy as np\n",
    "import matplotlib.pyplot as plt"
   ]
  },
  {
   "cell_type": "code",
   "execution_count": 3,
   "metadata": {},
   "outputs": [
    {
     "data": {
      "text/html": [
       "<div>\n",
       "<style scoped>\n",
       "    .dataframe tbody tr th:only-of-type {\n",
       "        vertical-align: middle;\n",
       "    }\n",
       "\n",
       "    .dataframe tbody tr th {\n",
       "        vertical-align: top;\n",
       "    }\n",
       "\n",
       "    .dataframe thead th {\n",
       "        text-align: right;\n",
       "    }\n",
       "</style>\n",
       "<table border=\"1\" class=\"dataframe\">\n",
       "  <thead>\n",
       "    <tr style=\"text-align: right;\">\n",
       "      <th></th>\n",
       "      <th>FlowEvap</th>\n",
       "      <th>FreqFanA</th>\n",
       "      <th>FreqFanB</th>\n",
       "      <th>PerChiLoad</th>\n",
       "      <th>PerFreqFanA</th>\n",
       "      <th>PerFreqFanB</th>\n",
       "      <th>PerHumidity</th>\n",
       "      <th>PowChi</th>\n",
       "      <th>PowChiP</th>\n",
       "      <th>PowConP</th>\n",
       "      <th>PowCool</th>\n",
       "      <th>PowFanA</th>\n",
       "      <th>PowFanB</th>\n",
       "      <th>PowIn</th>\n",
       "      <th>TempAmbient</th>\n",
       "      <th>TempCondIn</th>\n",
       "      <th>TempCondOut</th>\n",
       "      <th>TempEvapIn</th>\n",
       "      <th>TempEvapOut</th>\n",
       "      <th>TempWetBulb</th>\n",
       "    </tr>\n",
       "    <tr>\n",
       "      <th>Time</th>\n",
       "      <th></th>\n",
       "      <th></th>\n",
       "      <th></th>\n",
       "      <th></th>\n",
       "      <th></th>\n",
       "      <th></th>\n",
       "      <th></th>\n",
       "      <th></th>\n",
       "      <th></th>\n",
       "      <th></th>\n",
       "      <th></th>\n",
       "      <th></th>\n",
       "      <th></th>\n",
       "      <th></th>\n",
       "      <th></th>\n",
       "      <th></th>\n",
       "      <th></th>\n",
       "      <th></th>\n",
       "      <th></th>\n",
       "      <th></th>\n",
       "    </tr>\n",
       "  </thead>\n",
       "  <tbody>\n",
       "    <tr>\n",
       "      <th>2018-01-01 06:00:00+00:00</th>\n",
       "      <td>0.0</td>\n",
       "      <td>0.0</td>\n",
       "      <td>0.0</td>\n",
       "      <td>0.0</td>\n",
       "      <td>0.003912</td>\n",
       "      <td>0.003912</td>\n",
       "      <td>0.626527</td>\n",
       "      <td>0.0</td>\n",
       "      <td>0.0</td>\n",
       "      <td>0.0</td>\n",
       "      <td>0.0</td>\n",
       "      <td>0.0</td>\n",
       "      <td>0.0</td>\n",
       "      <td>0.0</td>\n",
       "      <td>263.683475</td>\n",
       "      <td>290.49</td>\n",
       "      <td>290.07</td>\n",
       "      <td>286.04</td>\n",
       "      <td>284.58</td>\n",
       "      <td>261.746306</td>\n",
       "    </tr>\n",
       "    <tr>\n",
       "      <th>2018-01-01 06:05:00+00:00</th>\n",
       "      <td>0.0</td>\n",
       "      <td>0.0</td>\n",
       "      <td>0.0</td>\n",
       "      <td>0.0</td>\n",
       "      <td>0.003912</td>\n",
       "      <td>0.003912</td>\n",
       "      <td>0.642870</td>\n",
       "      <td>0.0</td>\n",
       "      <td>0.0</td>\n",
       "      <td>0.0</td>\n",
       "      <td>0.0</td>\n",
       "      <td>0.0</td>\n",
       "      <td>0.0</td>\n",
       "      <td>0.0</td>\n",
       "      <td>263.578395</td>\n",
       "      <td>290.48</td>\n",
       "      <td>290.11</td>\n",
       "      <td>286.04</td>\n",
       "      <td>284.57</td>\n",
       "      <td>261.696383</td>\n",
       "    </tr>\n",
       "    <tr>\n",
       "      <th>2018-01-01 06:10:00+00:00</th>\n",
       "      <td>0.0</td>\n",
       "      <td>0.0</td>\n",
       "      <td>0.0</td>\n",
       "      <td>0.0</td>\n",
       "      <td>0.003912</td>\n",
       "      <td>0.003912</td>\n",
       "      <td>0.645108</td>\n",
       "      <td>0.0</td>\n",
       "      <td>0.0</td>\n",
       "      <td>0.0</td>\n",
       "      <td>0.0</td>\n",
       "      <td>0.0</td>\n",
       "      <td>0.0</td>\n",
       "      <td>0.0</td>\n",
       "      <td>263.520320</td>\n",
       "      <td>290.48</td>\n",
       "      <td>290.06</td>\n",
       "      <td>286.04</td>\n",
       "      <td>284.56</td>\n",
       "      <td>261.649772</td>\n",
       "    </tr>\n",
       "    <tr>\n",
       "      <th>2018-01-01 06:15:00+00:00</th>\n",
       "      <td>0.0</td>\n",
       "      <td>0.0</td>\n",
       "      <td>0.0</td>\n",
       "      <td>0.0</td>\n",
       "      <td>0.003912</td>\n",
       "      <td>0.003912</td>\n",
       "      <td>0.648744</td>\n",
       "      <td>0.0</td>\n",
       "      <td>0.0</td>\n",
       "      <td>0.0</td>\n",
       "      <td>0.0</td>\n",
       "      <td>0.0</td>\n",
       "      <td>0.0</td>\n",
       "      <td>0.0</td>\n",
       "      <td>263.510711</td>\n",
       "      <td>290.47</td>\n",
       "      <td>290.10</td>\n",
       "      <td>286.04</td>\n",
       "      <td>284.57</td>\n",
       "      <td>261.651572</td>\n",
       "    </tr>\n",
       "    <tr>\n",
       "      <th>2018-01-01 06:20:00+00:00</th>\n",
       "      <td>0.0</td>\n",
       "      <td>0.0</td>\n",
       "      <td>0.0</td>\n",
       "      <td>0.0</td>\n",
       "      <td>0.003912</td>\n",
       "      <td>0.003912</td>\n",
       "      <td>0.642590</td>\n",
       "      <td>0.0</td>\n",
       "      <td>0.0</td>\n",
       "      <td>0.0</td>\n",
       "      <td>0.0</td>\n",
       "      <td>0.0</td>\n",
       "      <td>0.0</td>\n",
       "      <td>0.0</td>\n",
       "      <td>263.664918</td>\n",
       "      <td>290.47</td>\n",
       "      <td>290.09</td>\n",
       "      <td>286.04</td>\n",
       "      <td>284.57</td>\n",
       "      <td>261.774611</td>\n",
       "    </tr>\n",
       "  </tbody>\n",
       "</table>\n",
       "</div>"
      ],
      "text/plain": [
       "                           FlowEvap  FreqFanA  FreqFanB  PerChiLoad  \\\n",
       "Time                                                                  \n",
       "2018-01-01 06:00:00+00:00       0.0       0.0       0.0         0.0   \n",
       "2018-01-01 06:05:00+00:00       0.0       0.0       0.0         0.0   \n",
       "2018-01-01 06:10:00+00:00       0.0       0.0       0.0         0.0   \n",
       "2018-01-01 06:15:00+00:00       0.0       0.0       0.0         0.0   \n",
       "2018-01-01 06:20:00+00:00       0.0       0.0       0.0         0.0   \n",
       "\n",
       "                           PerFreqFanA  PerFreqFanB  PerHumidity  PowChi  \\\n",
       "Time                                                                       \n",
       "2018-01-01 06:00:00+00:00     0.003912     0.003912     0.626527     0.0   \n",
       "2018-01-01 06:05:00+00:00     0.003912     0.003912     0.642870     0.0   \n",
       "2018-01-01 06:10:00+00:00     0.003912     0.003912     0.645108     0.0   \n",
       "2018-01-01 06:15:00+00:00     0.003912     0.003912     0.648744     0.0   \n",
       "2018-01-01 06:20:00+00:00     0.003912     0.003912     0.642590     0.0   \n",
       "\n",
       "                           PowChiP  PowConP  PowCool  PowFanA  PowFanB  PowIn  \\\n",
       "Time                                                                            \n",
       "2018-01-01 06:00:00+00:00      0.0      0.0      0.0      0.0      0.0    0.0   \n",
       "2018-01-01 06:05:00+00:00      0.0      0.0      0.0      0.0      0.0    0.0   \n",
       "2018-01-01 06:10:00+00:00      0.0      0.0      0.0      0.0      0.0    0.0   \n",
       "2018-01-01 06:15:00+00:00      0.0      0.0      0.0      0.0      0.0    0.0   \n",
       "2018-01-01 06:20:00+00:00      0.0      0.0      0.0      0.0      0.0    0.0   \n",
       "\n",
       "                           TempAmbient  TempCondIn  TempCondOut  TempEvapIn  \\\n",
       "Time                                                                          \n",
       "2018-01-01 06:00:00+00:00   263.683475      290.49       290.07      286.04   \n",
       "2018-01-01 06:05:00+00:00   263.578395      290.48       290.11      286.04   \n",
       "2018-01-01 06:10:00+00:00   263.520320      290.48       290.06      286.04   \n",
       "2018-01-01 06:15:00+00:00   263.510711      290.47       290.10      286.04   \n",
       "2018-01-01 06:20:00+00:00   263.664918      290.47       290.09      286.04   \n",
       "\n",
       "                           TempEvapOut  TempWetBulb  \n",
       "Time                                                 \n",
       "2018-01-01 06:00:00+00:00       284.58   261.746306  \n",
       "2018-01-01 06:05:00+00:00       284.57   261.696383  \n",
       "2018-01-01 06:10:00+00:00       284.56   261.649772  \n",
       "2018-01-01 06:15:00+00:00       284.57   261.651572  \n",
       "2018-01-01 06:20:00+00:00       284.57   261.774611  "
      ]
     },
     "execution_count": 3,
     "metadata": {},
     "output_type": "execute_result"
    }
   ],
   "source": [
    "chiller_data = pd.read_csv('Data/Chillers.csv', index_col='Time')\n",
    "chiller_data.head()"
   ]
  },
  {
   "cell_type": "code",
   "execution_count": 4,
   "metadata": {},
   "outputs": [
    {
     "name": "stdout",
     "output_type": "stream",
     "text": [
      "The chiller data has data from 2018-01-01 06:00:00+00:00 to 2019-01-01 05:55:00+00:00\n",
      "The size of the dataframe is (102934, 20)\n"
     ]
    }
   ],
   "source": [
    "print('The chiller data has data from {} to {}'.format(chiller_data.index.min(), chiller_data.index.max()))\n",
    "print('The size of the dataframe is {}'.format(chiller_data.shape))"
   ]
  },
  {
   "cell_type": "markdown",
   "metadata": {},
   "source": [
    "The parameters in this dataframe are explained [here](https://iahmed.me/EngineeringScienceBuilding/5-dataset.html)"
   ]
  },
  {
   "cell_type": "markdown",
   "metadata": {},
   "source": [
    "# Correlation Coefficients\n",
    "First test how the fields relate to each other"
   ]
  },
  {
   "cell_type": "code",
   "execution_count": 75,
   "metadata": {},
   "outputs": [
    {
     "data": {
      "image/png": "[encoded data removed]",
      "text/plain": [
       "<Figure size 864x864 with 2 Axes>"
      ]
     },
     "metadata": {
      "needs_background": "light"
     },
     "output_type": "display_data"
    }
   ],
   "source": [
    "fig, ax = plt.subplots(figsize=(12,12))\n",
    "correlations = chiller_data.corr()\n",
    "plt.matshow(correlations,fignum=0)\n",
    "plt.colorbar()\n",
    "plt.xticks(np.arange(len(chiller_data.columns)),chiller_data.columns, rotation=75)\n",
    "plt.yticks(np.arange(len(chiller_data.columns)),chiller_data.columns);"
   ]
  },
  {
   "cell_type": "code",
   "execution_count": 82,
   "metadata": {
    "collapsed": true,
    "jupyter": {
     "outputs_hidden": true
    }
   },
   "outputs": [
    {
     "name": "stdout",
     "output_type": "stream",
     "text": [
      "Top Absolute Correlations\n",
      "PerFreqFanA  PerFreqFanB    1.000000\n",
      "FlowEvap     PowChiP        0.999999\n",
      "FreqFanA     FreqFanB       0.999988\n",
      "PowFanA      PowFanB        0.999982\n",
      "FreqFanA     PowFanA        0.999590\n",
      "dtype: float64\n"
     ]
    }
   ],
   "source": [
    "def get_redundant_pairs(df):\n",
    "    '''Get diagonal and lower triangular pairs of correlation matrix'''\n",
    "    pairs_to_drop = set()\n",
    "    cols = df.columns\n",
    "    for i in range(0, df.shape[1]):\n",
    "        for j in range(0, i+1):\n",
    "            pairs_to_drop.add((cols[i], cols[j]))\n",
    "    return pairs_to_drop\n",
    "\n",
    "def get_top_abs_correlations(df, n=5):\n",
    "    au_corr = df.corr().abs().unstack()\n",
    "    labels_to_drop = get_redundant_pairs(df)\n",
    "    au_corr = au_corr.drop(labels=labels_to_drop).sort_values(ascending=False)\n",
    "    return au_corr[0:n]\n",
    "\n",
    "print(\"Top Absolute Correlations\")\n",
    "print(get_top_abs_correlations(correlations))"
   ]
  },
  {
   "cell_type": "markdown",
   "metadata": {},
   "source": [
    "So there don't seem to be strong correlations between the chiller usage and the external factors. The only strong correlations are the pieces of the chillers themselves, and it makes sense they would operate in tandem with each other."
   ]
  },
  {
   "cell_type": "code",
   "execution_count": null,
   "metadata": {},
   "outputs": [],
   "source": []
  }
 ],
 "metadata": {
  "kernelspec": {
   "display_name": "Python 3",
   "language": "python",
   "name": "python3"
  },
  "language_info": {
   "codemirror_mode": {
    "name": "ipython",
    "version": 3
   },
   "file_extension": ".py",
   "mimetype": "text/x-python",
   "name": "python",
   "nbconvert_exporter": "python",
   "pygments_lexer": "ipython3",
   "version": "3.8.1"
  }
 },
 "nbformat": 4,
 "nbformat_minor": 4
}
